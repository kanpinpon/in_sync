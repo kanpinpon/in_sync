{
 "cells": [
  {
   "cell_type": "code",
   "execution_count": 2,
   "metadata": {},
   "outputs": [],
   "source": [
    "from google.cloud import storage\n",
    "from PIL import Image\n",
    "import cv2 as cv\n",
    "import numpy as np"
   ]
  },
  {
   "cell_type": "code",
   "execution_count": 21,
   "metadata": {},
   "outputs": [],
   "source": [
    "BUCKET_NAME = 'sync_testinput'\n",
    "\n",
    "\n",
    "storage_client = storage.Client()\n",
    "bucket = storage_client.bucket(BUCKET_NAME)\n",
    "blob = bucket.blob('1.jpg')\n",
    "blob.download_to_filename('1.jpg')"
   ]
  },
  {
   "cell_type": "code",
   "execution_count": 30,
   "metadata": {},
   "outputs": [
    {
     "data": {
      "text/plain": [
       "6"
      ]
     },
     "execution_count": 30,
     "metadata": {},
     "output_type": "execute_result"
    }
   ],
   "source": [
    "frame_count=6\n",
    "frames = []\n",
    "\n",
    "\n",
    "for i in range(1, frame_count+1):\n",
    "    storage_client = storage.Client()\n",
    "    bucket = storage_client.bucket(BUCKET_NAME)\n",
    "    blob = bucket.blob(f'{i}.jpg')\n",
    "    blob.download_to_filename(f'{i}.jpg')\n",
    "    \n",
    "    oriImg = cv.imread(f'{i}.jpg')\n",
    "    frames.append(oriImg)\n",
    "\n",
    "len(frames)"
   ]
  },
  {
   "cell_type": "code",
   "execution_count": 3,
   "metadata": {},
   "outputs": [
    {
     "data": {
      "text/plain": [
       "95"
      ]
     },
     "execution_count": 3,
     "metadata": {},
     "output_type": "execute_result"
    }
   ],
   "source": [
    "vidcap = cv.VideoCapture('dancing.gif')\n",
    "frame_count = int(vidcap.get(cv.CAP_PROP_FRAME_COUNT))\n",
    "frame_count"
   ]
  }
 ],
 "metadata": {
  "kernelspec": {
   "display_name": "Python 3.8.12 64-bit ('in_sync')",
   "language": "python",
   "name": "python3"
  },
  "language_info": {
   "codemirror_mode": {
    "name": "ipython",
    "version": 3
   },
   "file_extension": ".py",
   "mimetype": "text/x-python",
   "name": "python",
   "nbconvert_exporter": "python",
   "pygments_lexer": "ipython3",
   "version": "3.8.12"
  },
  "orig_nbformat": 4,
  "vscode": {
   "interpreter": {
    "hash": "8ed83d27b9ddddd161e34dde9c427b42771b15bb075030b08fba2af563913eae"
   }
  }
 },
 "nbformat": 4,
 "nbformat_minor": 2
}
